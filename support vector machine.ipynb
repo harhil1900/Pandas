{
 "cells": [
  {
   "cell_type": "code",
   "execution_count": 43,
   "id": "9227f9c9",
   "metadata": {},
   "outputs": [],
   "source": [
    "import numpy as np\n",
    "import pandas as pd\n",
    "from sklearn.model_selection import train_test_split\n",
    "from sklearn.svm import SVC\n",
    "from sklearn.metrics import confusion_matrix\n",
    "from sklearn.model_selection import validation_curve\n",
    "from sklearn.model_selection import KFold\n",
    "from sklearn.model_selection import cross_val_score\n",
    "from sklearn.model_selection import GridSearchCV\n",
    "import matplotlib.pyplot as plt\n",
    "import seaborn as sns"
   ]
  },
  {
   "cell_type": "code",
   "execution_count": null,
   "id": "e3119261",
   "metadata": {},
   "outputs": [],
   "source": [
    "train_data = pd.read_csv(\"train.csv\") #reading the csv files using pandas\n",
    "test_data = pd.read_csv(\"test.csv\")\n",
    "train_data\n",
    "test_data"
   ]
  },
  {
   "cell_type": "code",
   "execution_count": null,
   "id": "7c4117d8",
   "metadata": {},
   "outputs": [],
   "source": [
    "train_data.head() # printing first five columns of train_data\n"
   ]
  },
  {
   "cell_type": "code",
   "execution_count": null,
   "id": "3b52cf4b",
   "metadata": {},
   "outputs": [],
   "source": [
    "test_data.head() # printing first five columns of test_data"
   ]
  },
  {
   "cell_type": "code",
   "execution_count": null,
   "id": "459cd7a8",
   "metadata": {},
   "outputs": [],
   "source": [
    "print(\"Dimensions: \",test_data.shape, \"\\n\")\n",
    "\n",
    "# data types\n",
    "print(test_data.info())\n",
    "\n",
    "# head\n",
    "test_data.head()"
   ]
  },
  {
   "cell_type": "code",
   "execution_count": null,
   "id": "0104d3fb",
   "metadata": {},
   "outputs": [],
   "source": [
    "print(\"Dimensions: \",train_data.shape, \"\\n\")\n",
    "\n",
    "# data types\n",
    "print(train_data.info())\n",
    "\n",
    "# head\n",
    "train_data.head()"
   ]
  },
  {
   "cell_type": "code",
   "execution_count": null,
   "id": "06ddca69",
   "metadata": {},
   "outputs": [],
   "source": [
    "print(train_data.columns)\n",
    "print(test_data.columns)"
   ]
  },
  {
   "cell_type": "code",
   "execution_count": null,
   "id": "82fc77e5",
   "metadata": {},
   "outputs": [],
   "source": [
    "order = list(np.sort(train_data['label'].unique()))\n",
    "print(order)"
   ]
  },
  {
   "cell_type": "code",
   "execution_count": null,
   "id": "a552a63c",
   "metadata": {},
   "outputs": [],
   "source": [
    "four = train_data.iloc[3, 1:]\n",
    "four.shape\n",
    "four = four.values.reshape(28,28)\n",
    "plt.imshow(four, cmap='gray')\n",
    "plt.title(\"Digit 4\")"
   ]
  },
  {
   "cell_type": "code",
   "execution_count": null,
   "id": "bbd6151c",
   "metadata": {},
   "outputs": [],
   "source": [
    "seven = train_data.iloc[6, 1:]\n",
    "seven.shape\n",
    "seven = seven.values.reshape(28, 28)\n",
    "plt.imshow(seven, cmap='gray')\n",
    "plt.title(\"Digit 7\")"
   ]
  },
  {
   "cell_type": "code",
   "execution_count": null,
   "id": "98c0d337",
   "metadata": {},
   "outputs": [],
   "source": [
    "round(train_data.drop('label', axis=1).mean(), 2)"
   ]
  },
  {
   "cell_type": "code",
   "execution_count": null,
   "id": "78034f43",
   "metadata": {},
   "outputs": [],
   "source": [
    "X = X/255.0\n",
    "test_data = test_data/255.0\n",
    "\n",
    "print(\"X:\", X.shape)\n",
    "print(\"test_data:\", test_data.shape)"
   ]
  },
  {
   "cell_type": "code",
   "execution_count": 30,
   "id": "6998ac07",
   "metadata": {},
   "outputs": [],
   "source": [
    "from sklearn.preprocessing import scale\n",
    "X_scaled = scale(X)\n",
    "\n",
    "# train test split\n",
    "X_train, X_test, y_train, y_test = train_test_split(X_scaled, y, test_size = 0.3, train_size = 0.2 ,random_state = 10)\n"
   ]
  },
  {
   "cell_type": "code",
   "execution_count": 31,
   "id": "f0d70371",
   "metadata": {},
   "outputs": [],
   "source": [
    "model_linear = SVC(kernel='linear')\n",
    "model_linear.fit(X_train, y_train)\n",
    "\n",
    "# predict\n",
    "y_pred = model_linear.predict(X_test)"
   ]
  },
  {
   "cell_type": "code",
   "execution_count": 32,
   "id": "c5573a94",
   "metadata": {},
   "outputs": [
    {
     "name": "stdout",
     "output_type": "stream",
     "text": [
      "accuracy: 0.9133333333333333 \n",
      "\n",
      "[[1160    0    0    1    6    6   12    1    1    1]\n",
      " [   0 1389    3    4    3    0    0    2   12    0]\n",
      " [   9   11 1146   38   11    4   10   12   17    2]\n",
      " [   5    4   35 1204    0   51    2    3   21    6]\n",
      " [   3    3   20    3 1132    1   10    4    2   40]\n",
      " [   9   17   10   67    7  997   14    2   19    7]\n",
      " [  15    2   15    0    9   15 1160    1    2    0]\n",
      " [   5   12   18    9   26    2    1 1212    3   42]\n",
      " [   8   31   24   45    8   61    9   14 1002   15]\n",
      " [   9    6    7   28   56    3    0   53    7 1106]]\n"
     ]
    }
   ],
   "source": [
    "from sklearn import metrics\n",
    "from sklearn.metrics import confusion_matrix\n",
    "# accuracy\n",
    "print(\"accuracy:\", metrics.accuracy_score(y_true=y_test, y_pred=y_pred), \"\\n\")\n",
    "\n",
    "# cm\n",
    "print(metrics.confusion_matrix(y_true=y_test, y_pred=y_pred))\n"
   ]
  },
  {
   "cell_type": "code",
   "execution_count": 33,
   "id": "f3c8ab78",
   "metadata": {},
   "outputs": [],
   "source": [
    "non_linear_model = SVC(kernel='rbf')\n",
    "\n",
    "# fit\n",
    "non_linear_model.fit(X_train, y_train)\n",
    "\n",
    "# predict\n",
    "y_pred = non_linear_model.predict(X_test)\n"
   ]
  },
  {
   "cell_type": "code",
   "execution_count": 34,
   "id": "0ab8ca98",
   "metadata": {},
   "outputs": [
    {
     "name": "stdout",
     "output_type": "stream",
     "text": [
      "accuracy: 0.9348412698412698 \n",
      "\n",
      "[[1156    0    5    1    0    2   12    6    5    1]\n",
      " [   0 1389    4    3    4    0    2    6    5    0]\n",
      " [   2    4 1170   19    5    0    9   35   15    1]\n",
      " [   1    4   19 1237    0   20    2   32   13    3]\n",
      " [   0    4   25    0 1133    0    9   17    3   27]\n",
      " [   1    9    5   42    3 1047   17   11    8    6]\n",
      " [  13    2    5    0    2   15 1156   24    2    0]\n",
      " [   3   10    9    3   15    0    0 1256    1   33]\n",
      " [   5   19   14   25    7   21    8   15 1095    8]\n",
      " [   4    4    6   30   23    2    1   61    4 1140]]\n"
     ]
    }
   ],
   "source": [
    "print(\"accuracy:\", metrics.accuracy_score(y_true=y_test, y_pred=y_pred), \"\\n\")\n",
    "\n",
    "# cm\n",
    "print(metrics.confusion_matrix(y_true=y_test, y_pred=y_pred))\n"
   ]
  },
  {
   "cell_type": "code",
   "execution_count": null,
   "id": "e360c9a3",
   "metadata": {},
   "outputs": [],
   "source": []
  }
 ],
 "metadata": {
  "kernelspec": {
   "display_name": "Python 3 (ipykernel)",
   "language": "python",
   "name": "python3"
  },
  "language_info": {
   "codemirror_mode": {
    "name": "ipython",
    "version": 3
   },
   "file_extension": ".py",
   "mimetype": "text/x-python",
   "name": "python",
   "nbconvert_exporter": "python",
   "pygments_lexer": "ipython3",
   "version": "3.11.4"
  }
 },
 "nbformat": 4,
 "nbformat_minor": 5
}
