{
 "cells": [
  {
   "cell_type": "code",
   "execution_count": 69,
   "id": "db13f1c9",
   "metadata": {},
   "outputs": [],
   "source": [
    "import pandas as pd\n",
    "import numpy as np\n",
    "import seaborn as sns\n",
    "import matplotlib.pyplot as plt\n",
    "import plotly.express as px"
   ]
  },
  {
   "cell_type": "code",
   "execution_count": 70,
   "id": "a2962886",
   "metadata": {},
   "outputs": [],
   "source": [
    "df=pd.read_excel('data.xlsx')"
   ]
  },
  {
   "cell_type": "code",
   "execution_count": 71,
   "id": "ce8018a9",
   "metadata": {},
   "outputs": [
    {
     "name": "stdout",
     "output_type": "stream",
     "text": [
      "<class 'pandas.core.frame.DataFrame'>\n",
      "RangeIndex: 1020 entries, 0 to 1019\n",
      "Data columns (total 11 columns):\n",
      " #   Column     Non-Null Count  Dtype  \n",
      "---  ------     --------------  -----  \n",
      " 0   model      1019 non-null   object \n",
      " 1   price      1020 non-null   object \n",
      " 2   rating     879 non-null    float64\n",
      " 3   sim        1020 non-null   object \n",
      " 4   processor  1020 non-null   object \n",
      " 5   ram        1020 non-null   object \n",
      " 6   battery    1020 non-null   object \n",
      " 7   display    1020 non-null   object \n",
      " 8   camera     1019 non-null   object \n",
      " 9   card       1013 non-null   object \n",
      " 10  os         1003 non-null   object \n",
      "dtypes: float64(1), object(10)\n",
      "memory usage: 87.8+ KB\n"
     ]
    }
   ],
   "source": [
    "df.info()"
   ]
  },
  {
   "cell_type": "code",
   "execution_count": 72,
   "id": "2fcc4522",
   "metadata": {},
   "outputs": [
    {
     "data": {
      "text/plain": [
       "model          1\n",
       "price          0\n",
       "rating       141\n",
       "sim            0\n",
       "processor      0\n",
       "ram            0\n",
       "battery        0\n",
       "display        0\n",
       "camera         1\n",
       "card           7\n",
       "os            17\n",
       "dtype: int64"
      ]
     },
     "execution_count": 72,
     "metadata": {},
     "output_type": "execute_result"
    }
   ],
   "source": [
    "df.isnull().sum()"
   ]
  },
  {
   "cell_type": "code",
   "execution_count": 73,
   "id": "d64119aa",
   "metadata": {},
   "outputs": [
    {
     "data": {
      "text/plain": [
       "0"
      ]
     },
     "execution_count": 73,
     "metadata": {},
     "output_type": "execute_result"
    }
   ],
   "source": [
    "df.duplicated().sum()"
   ]
  },
  {
   "cell_type": "code",
   "execution_count": 74,
   "id": "da4c4279",
   "metadata": {},
   "outputs": [
    {
     "data": {
      "text/html": [
       "<div>\n",
       "<style scoped>\n",
       "    .dataframe tbody tr th:only-of-type {\n",
       "        vertical-align: middle;\n",
       "    }\n",
       "\n",
       "    .dataframe tbody tr th {\n",
       "        vertical-align: top;\n",
       "    }\n",
       "\n",
       "    .dataframe thead th {\n",
       "        text-align: right;\n",
       "    }\n",
       "</style>\n",
       "<table border=\"1\" class=\"dataframe\">\n",
       "  <thead>\n",
       "    <tr style=\"text-align: right;\">\n",
       "      <th></th>\n",
       "      <th>model</th>\n",
       "      <th>price</th>\n",
       "      <th>rating</th>\n",
       "      <th>sim</th>\n",
       "      <th>processor</th>\n",
       "      <th>ram</th>\n",
       "      <th>battery</th>\n",
       "      <th>display</th>\n",
       "      <th>camera</th>\n",
       "      <th>card</th>\n",
       "      <th>os</th>\n",
       "    </tr>\n",
       "  </thead>\n",
       "  <tbody>\n",
       "    <tr>\n",
       "      <th>176</th>\n",
       "      <td>Xiaomi Redmi Note 11SE</td>\n",
       "      <td>₹11,999</td>\n",
       "      <td>80.0</td>\n",
       "      <td>Dual Sim, 3G, 4G, VoLTE, Wi-Fi, IR Blaster</td>\n",
       "      <td>Helio G95, Octa Core, 2.05 GHz Processor</td>\n",
       "      <td>6 GB RAM, 64 GB inbuilt</td>\n",
       "      <td>5000 mAh Battery with 33W Fast Charging</td>\n",
       "      <td>6.43 inches, 1080 x 2400 px Display with Punch...</td>\n",
       "      <td>64 MP Quad Rear &amp; 13 MP Front Camera</td>\n",
       "      <td>Memory Card Supported, upto 512 GB</td>\n",
       "      <td>Android v11</td>\n",
       "    </tr>\n",
       "    <tr>\n",
       "      <th>276</th>\n",
       "      <td>Xiaomi 12 Pro 5G</td>\n",
       "      <td>₹50,990</td>\n",
       "      <td>89.0</td>\n",
       "      <td>Dual Sim, 3G, 4G, 5G, VoLTE, Wi-Fi, NFC, IR Bl...</td>\n",
       "      <td>Snapdragon 8 Gen1, Octa Core, 3 GHz Processor</td>\n",
       "      <td>8 GB RAM, 256 GB inbuilt</td>\n",
       "      <td>4600 mAh Battery with 120W Fast Charging</td>\n",
       "      <td>6.73 inches, 1440 x 3200 px, 120 Hz Display wi...</td>\n",
       "      <td>50 MP + 50 MP + 50 MP Triple Rear &amp; 32 MP Fron...</td>\n",
       "      <td>Android v12</td>\n",
       "      <td>No FM Radio</td>\n",
       "    </tr>\n",
       "    <tr>\n",
       "      <th>555</th>\n",
       "      <td>Realme 8</td>\n",
       "      <td>₹15,999</td>\n",
       "      <td>78.0</td>\n",
       "      <td>Dual Sim, 3G, 4G, VoLTE, Wi-Fi</td>\n",
       "      <td>Helio G95, Octa Core, 2 GHz Processor</td>\n",
       "      <td>4 GB RAM, 128 GB inbuilt</td>\n",
       "      <td>5000 mAh Battery with 30W Fast Charging</td>\n",
       "      <td>6.4 inches, 1080 x 2400 px Display with Punch ...</td>\n",
       "      <td>64 MP Quad Rear &amp; 16 MP Front Camera</td>\n",
       "      <td>Memory Card Supported, upto 256 GB</td>\n",
       "      <td>Android v11</td>\n",
       "    </tr>\n",
       "    <tr>\n",
       "      <th>960</th>\n",
       "      <td>Samsung Galaxy F42 5G (8GB RAM + 128GB)</td>\n",
       "      <td>₹22,999</td>\n",
       "      <td>82.0</td>\n",
       "      <td>Dual Sim, 3G, 4G, 5G, VoLTE, Wi-Fi</td>\n",
       "      <td>Dimensity 700 5G, Octa Core, 2.2 GHz Processor</td>\n",
       "      <td>8 GB RAM, 128 GB inbuilt</td>\n",
       "      <td>5000 mAh Battery with 15W Fast Charging</td>\n",
       "      <td>6.6 inches, 1080 x 2408 px, 90 Hz Display with...</td>\n",
       "      <td>64 MP + 5 MP + 2 MP Triple Rear &amp; 8 MP Front C...</td>\n",
       "      <td>Memory Card Supported, upto 1 TB</td>\n",
       "      <td>Android v11</td>\n",
       "    </tr>\n",
       "    <tr>\n",
       "      <th>80</th>\n",
       "      <td>Motorola Moto G72 4G</td>\n",
       "      <td>₹15,999</td>\n",
       "      <td>83.0</td>\n",
       "      <td>Dual Sim, 3G, 4G, VoLTE, Wi-Fi, NFC</td>\n",
       "      <td>Helio  G99, Octa Core, 2.2 GHz Processor</td>\n",
       "      <td>6 GB RAM, 128 GB inbuilt</td>\n",
       "      <td>5000 mAh Battery with 33W Fast Charging</td>\n",
       "      <td>6.55 inches, 1080 x 2400 px, 120 Hz Display wi...</td>\n",
       "      <td>108 MP + 8 MP + 2 MP Triple Rear &amp; 16 MP Front...</td>\n",
       "      <td>Memory Card (Hybrid)</td>\n",
       "      <td>Android v12</td>\n",
       "    </tr>\n",
       "  </tbody>\n",
       "</table>\n",
       "</div>"
      ],
      "text/plain": [
       "                                       model    price  rating  \\\n",
       "176                   Xiaomi Redmi Note 11SE  ₹11,999    80.0   \n",
       "276                         Xiaomi 12 Pro 5G  ₹50,990    89.0   \n",
       "555                                 Realme 8  ₹15,999    78.0   \n",
       "960  Samsung Galaxy F42 5G (8GB RAM + 128GB)  ₹22,999    82.0   \n",
       "80                      Motorola Moto G72 4G  ₹15,999    83.0   \n",
       "\n",
       "                                                   sim  \\\n",
       "176         Dual Sim, 3G, 4G, VoLTE, Wi-Fi, IR Blaster   \n",
       "276  Dual Sim, 3G, 4G, 5G, VoLTE, Wi-Fi, NFC, IR Bl...   \n",
       "555                     Dual Sim, 3G, 4G, VoLTE, Wi-Fi   \n",
       "960                 Dual Sim, 3G, 4G, 5G, VoLTE, Wi-Fi   \n",
       "80                 Dual Sim, 3G, 4G, VoLTE, Wi-Fi, NFC   \n",
       "\n",
       "                                          processor                       ram  \\\n",
       "176        Helio G95, Octa Core, 2.05 GHz Processor   6 GB RAM, 64 GB inbuilt   \n",
       "276   Snapdragon 8 Gen1, Octa Core, 3 GHz Processor  8 GB RAM, 256 GB inbuilt   \n",
       "555           Helio G95, Octa Core, 2 GHz Processor  4 GB RAM, 128 GB inbuilt   \n",
       "960  Dimensity 700 5G, Octa Core, 2.2 GHz Processor  8 GB RAM, 128 GB inbuilt   \n",
       "80         Helio  G99, Octa Core, 2.2 GHz Processor  6 GB RAM, 128 GB inbuilt   \n",
       "\n",
       "                                      battery  \\\n",
       "176   5000 mAh Battery with 33W Fast Charging   \n",
       "276  4600 mAh Battery with 120W Fast Charging   \n",
       "555   5000 mAh Battery with 30W Fast Charging   \n",
       "960   5000 mAh Battery with 15W Fast Charging   \n",
       "80    5000 mAh Battery with 33W Fast Charging   \n",
       "\n",
       "                                               display  \\\n",
       "176  6.43 inches, 1080 x 2400 px Display with Punch...   \n",
       "276  6.73 inches, 1440 x 3200 px, 120 Hz Display wi...   \n",
       "555  6.4 inches, 1080 x 2400 px Display with Punch ...   \n",
       "960  6.6 inches, 1080 x 2408 px, 90 Hz Display with...   \n",
       "80   6.55 inches, 1080 x 2400 px, 120 Hz Display wi...   \n",
       "\n",
       "                                                camera  \\\n",
       "176               64 MP Quad Rear & 13 MP Front Camera   \n",
       "276  50 MP + 50 MP + 50 MP Triple Rear & 32 MP Fron...   \n",
       "555               64 MP Quad Rear & 16 MP Front Camera   \n",
       "960  64 MP + 5 MP + 2 MP Triple Rear & 8 MP Front C...   \n",
       "80   108 MP + 8 MP + 2 MP Triple Rear & 16 MP Front...   \n",
       "\n",
       "                                   card           os  \n",
       "176  Memory Card Supported, upto 512 GB  Android v11  \n",
       "276                         Android v12  No FM Radio  \n",
       "555  Memory Card Supported, upto 256 GB  Android v11  \n",
       "960    Memory Card Supported, upto 1 TB  Android v11  \n",
       "80                 Memory Card (Hybrid)  Android v12  "
      ]
     },
     "execution_count": 74,
     "metadata": {},
     "output_type": "execute_result"
    }
   ],
   "source": [
    "df.sample(5)"
   ]
  },
  {
   "cell_type": "code",
   "execution_count": 75,
   "id": "0315bef3",
   "metadata": {},
   "outputs": [],
   "source": [
    "df[\"rating\"].fillna(round(df[\"rating\"].mean()),inplace=True)\n",
    "df[\"os\"].fillna(df[\"os\"].mode(),inplace=True)\n",
    "df.dropna(inplace=True)"
   ]
  },
  {
   "cell_type": "code",
   "execution_count": 76,
   "id": "a9dbd090",
   "metadata": {},
   "outputs": [
    {
     "data": {
      "text/plain": [
       "0"
      ]
     },
     "execution_count": 76,
     "metadata": {},
     "output_type": "execute_result"
    }
   ],
   "source": [
    "df.isnull().sum().sum()"
   ]
  },
  {
   "cell_type": "code",
   "execution_count": 77,
   "id": "40b05172",
   "metadata": {},
   "outputs": [
    {
     "name": "stdout",
     "output_type": "stream",
     "text": [
      "model - 1002\n",
      "price - 399\n",
      "rating - 30\n",
      "sim - 25\n",
      "processor - 289\n",
      "ram - 45\n",
      "battery - 244\n",
      "display - 359\n",
      "camera - 280\n",
      "card - 61\n",
      "os - 48\n"
     ]
    }
   ],
   "source": [
    "columns=df.columns\n",
    "for i in columns:\n",
    "    print(i,\"-\",df[i].nunique())"
   ]
  },
  {
   "cell_type": "code",
   "execution_count": 78,
   "id": "68d4050f",
   "metadata": {},
   "outputs": [],
   "source": [
    "df.replace(\"\\?\",\"\",inplace=True,regex=True)"
   ]
  },
  {
   "cell_type": "code",
   "execution_count": 79,
   "id": "b86a0a61",
   "metadata": {},
   "outputs": [],
   "source": [
    "#the column battery contains some data which belongs to other columns\n",
    "battery_ram_shift=df[[\"battery\"]][(~df[\"battery\"].str.contains(\"Camera\"))&(~df[\"battery\"].str.contains(\"inches\"))&(~df[\"battery\"].str.contains(\"mAh\"))]\n",
    "battery_camera_shift=df[[\"battery\"]][(~df[\"battery\"].str.contains(\"RAM\"))&(~df[\"battery\"].str.contains(\"inches\"))&(~df[\"battery\"].str.contains(\"mAh\"))]\n",
    "battery_ram_shift.rename(columns={\"battery\":\"ram\"},inplace=True)\n",
    "battery_camera_shift.rename(columns={\"battery\":\"camera\"},inplace=True)"
   ]
  },
  {
   "cell_type": "code",
   "execution_count": 80,
   "id": "74252ae1",
   "metadata": {},
   "outputs": [],
   "source": [
    "#the column camera contains some data which belongs to other columns\n",
    "camera_memory_shift=df[[\"camera\"]][(~df[\"camera\"].str.contains(\"Camera\",regex=True))&(~df[\"camera\"].str.contains(\"Display\",regex=True))]\n",
    "camera_Display_shift=df[[\"camera\"]][(~df[\"camera\"].str.contains(\"Camera\",regex=True))&(~df[\"camera\"].str.contains(\"Memory\",regex=True))]\n",
    "camera_memory_shift.rename(columns={\"camera\":\"card\"},inplace=True)\n",
    "camera_Display_shift.rename(columns={\"camera\":\"display\"},inplace=True)"
   ]
  },
  {
   "cell_type": "code",
   "execution_count": 81,
   "id": "1131ca0d",
   "metadata": {},
   "outputs": [],
   "source": [
    "#the column card contains some data which belongs to other columns\n",
    "card_os_shift=df[[\"card\"]][(~df['card'].str.contains(\"Memory\"))&(~df['card'].str.contains(\"Camera\"))&(~df['card'].str.contains(\"Display\"))]\n",
    "card_camera_shift=df[[\"card\"]][(~df['card'].str.contains(\"Memory\"))&(~df['card'].str.contains(\"Android\"))&(~df['card'].str.contains(\"Bluetooth\"))&(~df['card'].str.contains(\"OS\"))&(df['card'].str.contains(\"Camera\"))]\n",
    "card_Display_shift=df[[\"card\"]][(~df['card'].str.contains(\"Memory\"))&(df['card'].str.contains(\"Display\"))]\n",
    "card_camera_shift.rename(columns={\"card\":\"camera\"},inplace=True)\n",
    "card_Display_shift.rename(columns={\"card\":\"display\"},inplace=True)\n",
    "card_os_shift.rename(columns={\"card\":\"os\"},inplace=True)"
   ]
  },
  {
   "cell_type": "code",
   "execution_count": 82,
   "id": "e13fd45e",
   "metadata": {},
   "outputs": [],
   "source": [
    "#the column display contains some data which belongs to other columns\n",
    "display_battery_shift=df[[\"display\"]][(~df['display'].str.contains(\"Display\"))&(df['display'].str.contains(\"Battery\"))]\n",
    "display_camera_shift=df[[\"display\"]][(~df['display'].str.contains(\"Display\"))&(df['display'].str.contains(\"Camera\"))]\n",
    "display_camera_shift.rename(columns={\"display\":\"camera\"},inplace=True)\n",
    "display_battery_shift.rename(columns={\"display\":\"battery\"},inplace=True)"
   ]
  },
  {
   "cell_type": "code",
   "execution_count": 83,
   "id": "79fd8daf",
   "metadata": {},
   "outputs": [],
   "source": [
    "#the column os contains some data which belongs to other columns\n",
    "os_card_shift=df[[\"os\"]][df['os'].str.contains(\"Memory\")]\n",
    "os_camera_shift=df[[\"os\"]][df['os'].str.contains(\"Camera\")]\n",
    "os_camera_shift.rename(columns={\"os\":\"camera\"},inplace=True)\n",
    "os_card_shift.rename(columns={\"os\":\"card\"},inplace=True)"
   ]
  },
  {
   "cell_type": "code",
   "execution_count": 84,
   "id": "fef80c72",
   "metadata": {},
   "outputs": [],
   "source": [
    "#the column processor contains some data which belongs to other columns\n",
    "processor_sim_shift=df[[\"processor\"]][(df['processor'].str.contains(\"No\"))]\n",
    "processor_sim_shift.rename(columns={\"processor\":\"sim\"},inplace=True)"
   ]
  },
  {
   "cell_type": "code",
   "execution_count": 85,
   "id": "7376d5ac",
   "metadata": {},
   "outputs": [],
   "source": [
    "#the column ram contains some data which belongs to other columns\n",
    "ram_battery_shift=df[['ram']][(~df['ram'].str.contains(\"RAM\"))&(df['ram'].str.contains(\"Battery\"))]\n",
    "ram_os_shift=df[['ram']][(~df['ram'].str.contains(\"GB\"))&(df['ram'].str.contains(\"T\"))]\n",
    "ram_display_shift=df[['ram']][(df['ram'].str.contains(\"Display\"))]\n",
    "ram_sim_shift=df[['ram']][(df['ram'].str.contains(\"No\"))]\n",
    "ram_processor_shift=df[['ram']][(df['ram'].str.contains(\"Core\"))]"
   ]
  },
  {
   "cell_type": "code",
   "execution_count": 86,
   "id": "9dd3dba4",
   "metadata": {},
   "outputs": [],
   "source": [
    "ram_battery_shift.rename(columns={\"ram\":\"battery\"},inplace=True)\n",
    "ram_display_shift.rename(columns={\"ram\":\"display\"},inplace=True)\n",
    "ram_os_shift.rename(columns={\"ram\":\"os\"},inplace=True)\n",
    "ram_processor_shift.rename(columns={\"ram\":\"proessor\"},inplace=True)\n",
    "ram_sim_shift.rename(columns={\"ram\":\"sim\"},inplace=True)"
   ]
  },
  {
   "cell_type": "code",
   "execution_count": 87,
   "id": "403a72f3",
   "metadata": {},
   "outputs": [],
   "source": [
    "#code for shifting the inappropriate data to their respective columns\n",
    "df.update(battery_camera_shift)\n",
    "df.update(battery_ram_shift)\n",
    "df.update(processor_sim_shift)\n",
    "df.update(ram_battery_shift)\n",
    "df.update(ram_display_shift)\n",
    "df.update(ram_os_shift)\n",
    "df.update(ram_processor_shift)\n",
    "df.update(ram_sim_shift)\n",
    "df.update(display_battery_shift)\n",
    "df.update(display_camera_shift)\n",
    "df.update(camera_Display_shift)\n",
    "df.update(camera_memory_shift)\n",
    "df.update(card_camera_shift)\n",
    "df.update(card_Display_shift)\n",
    "df.update(card_os_shift)\n",
    "df.update(os_camera_shift)\n",
    "df.update(os_card_shift)"
   ]
  },
  {
   "cell_type": "code",
   "execution_count": 88,
   "id": "b69ab567",
   "metadata": {},
   "outputs": [],
   "source": [
    "#replacing the inappropirate data with mode of that column\n",
    "df[\"battery\"]=np.where(df[\"battery\"].str.contains(\"mAh\"),df[\"battery\"],df[\"battery\"].mode())\n",
    "df[\"card\"]=np.where(df[\"card\"].str.contains(\"Memory\"),df[\"card\"],df[\"card\"].mode())\n",
    "df[\"os\"]=np.where(df[\"os\"].str.contains(\"Memory\"),df[\"os\"].mode(),df[\"os\"])\n",
    "df[\"os\"]=np.where(df[\"os\"].str.contains(\"Camera\"),df[\"os\"].mode(),df[\"os\"])\n",
    "df[\"ram\"]=np.where(df[\"ram\"].str.contains(\"Display\"),df[\"ram\"].mode(),df[\"ram\"])\n",
    "df[\"ram\"]=np.where(df[\"ram\"].str.contains(\"Battery\"),df[\"ram\"].mode(),df[\"ram\"])\n",
    "df[\"display\"]=np.where(df[\"display\"].str.contains(\"Display\"),df[\"display\"],df[\"display\"].mode())\n",
    "df[\"processor\"]=np.where(df[\"processor\"].str.contains(\"No\"),df[\"processor\"].mode(),df[\"processor\"])\n",
    "df[\"processor\"]=np.where(df[\"processor\"].str.contains(\"RAM\"),df[\"processor\"].mode(),df[\"processor\"])"
   ]
  },
  {
   "cell_type": "code",
   "execution_count": null,
   "id": "e8bb7d9b",
   "metadata": {},
   "outputs": [],
   "source": [
    "# battery"
   ]
  },
  {
   "cell_type": "code",
   "execution_count": 94,
   "id": "6aa3a9a1",
   "metadata": {},
   "outputs": [],
   "source": [
    "battery=df['battery'].str.split(\"with\",expand=True).rename(columns={0:'battery_capacity', 1:'charging_capacity'})\n",
    "battery['battery_capacity'].replace(\"mAh Battery\",\"\",inplace=True,regex=True)\n",
    "battery['battery_capacity']=battery['battery_capacity'].str.strip()"
   ]
  },
  {
   "cell_type": "code",
   "execution_count": 95,
   "id": "d72a856c",
   "metadata": {},
   "outputs": [],
   "source": [
    "battery['charging_capacity'].replace(\"W Fast Charging\",\"\",inplace=True,regex=True)\n",
    "battery['charging_capacity'].replace(\"Fast Charging\",33,inplace=True,regex=True)\n",
    "battery['charging_capacity']=battery['charging_capacity'].str.strip()"
   ]
  },
  {
   "cell_type": "code",
   "execution_count": 96,
   "id": "362b5b60",
   "metadata": {},
   "outputs": [
    {
     "data": {
      "text/plain": [
       "array(['5000', '3279', '4980', '4500', '3240', '4700', '4830', '4800',\n",
       "       '4323', '3110', '5200', '6000', '4325', '4600', '4200', '3500',\n",
       "       '3095', '4020', '3200', '4400', '4310', '4820', '3700', '5160',\n",
       "       '5080', '3900', '4410', '5020', '2800', '4352', '1450', '4520',\n",
       "       '4810', '4000', '2050', '2150', '4610', '5100', '7000', '4300',\n",
       "       '5500', '4050', '4355', '3060', '1500', '5003', '2438', '4250',\n",
       "       '3300', '4450', '4614', '4870', '4030', '4350', '4100', '21000',\n",
       "       '2000', '4860', '2275', '4230', '1900', '3020', '4730', '3520',\n",
       "       '4080', '2500', '5050', '5600', '4470', '3360', '3000', '2230',\n",
       "       '9800', '1150', '1821', '1480', '4015', '3285', '4360', '3315',\n",
       "       '1200', '3600', '3100', '22000', '2400', '1020', '4532', '1800',\n",
       "       '5065', '4620', '4780', '3730', '3400', '2730', '5180', '800',\n",
       "       '8000'], dtype=object)"
      ]
     },
     "execution_count": 96,
     "metadata": {},
     "output_type": "execute_result"
    }
   ],
   "source": [
    "battery['battery_capacity'].unique()"
   ]
  },
  {
   "cell_type": "code",
   "execution_count": 97,
   "id": "cda487d1",
   "metadata": {},
   "outputs": [
    {
     "data": {
      "text/plain": [
       "array(['100', '33', '15', nan, '67', '25', '120', '80', '18', '45', '10',\n",
       "       '66', '44', None, '210', '30', '150', '68', '50', '20', '65',\n",
       "       '180', '125', '40', '60', '200', '240', '19', '21', '135', '165',\n",
       "       '22.5', '27', '55', '68.2'], dtype=object)"
      ]
     },
     "execution_count": 97,
     "metadata": {},
     "output_type": "execute_result"
    }
   ],
   "source": [
    "battery['charging_capacity'].unique()"
   ]
  },
  {
   "cell_type": "code",
   "execution_count": 98,
   "id": "91a8b1f6",
   "metadata": {},
   "outputs": [],
   "source": [
    "battery['charging_capacity'].fillna(33,inplace=True)"
   ]
  },
  {
   "cell_type": "code",
   "execution_count": 99,
   "id": "31ac003e",
   "metadata": {},
   "outputs": [],
   "source": [
    "# camerra"
   ]
  },
  {
   "cell_type": "code",
   "execution_count": 100,
   "id": "e0eddd68",
   "metadata": {},
   "outputs": [],
   "source": [
    "camera=df['camera'].str.split(\"&\",expand=True).rename(columns={0:'Rear Camera', 1:'Front Camera'})\n",
    "frontCam=camera['Front Camera'].str.split(\"+\",expand=True).rename(columns={0:'Main Camera', 1:'Additional Camera'})\n",
    "frontCam['Main Camera'].replace(\"Front Camera\",\"\",inplace=True,regex=True)\n",
    "frontCam['Main Camera'].replace({\"MP\":\"\",\"Dual\":\"\",\"Main\":16},inplace=True,regex=True)"
   ]
  },
  {
   "cell_type": "code",
   "execution_count": 102,
   "id": "769eb6f9",
   "metadata": {},
   "outputs": [],
   "source": [
    "frontCam['Main Camera']=frontCam['Main Camera'].str.strip()\n",
    "camera['Front Camera']=frontCam['Main Camera']\n",
    "camera['Rear Camera'].replace({\"Triple Rear\":\"\",\"MP\":\"\"},regex=True,inplace=True)\n",
    "Rear_Camera=camera['Rear Camera'].str.split(\"+\",expand=True).rename(columns={0:'Primary Camera', 1:'Secondary Camera', 2:'Additional Camera'})"
   ]
  },
  {
   "cell_type": "code",
   "execution_count": 103,
   "id": "0929e4a9",
   "metadata": {},
   "outputs": [
    {
     "data": {
      "text/plain": [
       "array(['50\\u2009 ', '64\\u2009 ', '108\\u2009 ', '12\\u2009 ', '200\\u2009 ',\n",
       "       '200\\u2009 Quad Rear ', '13\\u2009 ', '48\\u2009 ',\n",
       "       '108\\u2009 Quad Rear ', '50\\u2009 Quad Rear ', '13\\u2009 Rear ',\n",
       "       '64\\u2009 Quad Rear ', '8\\u2009 Rear ', '13\\u2009 Dual Rear ',\n",
       "       '48\\u2009 Quad Rear ', '50.3\\u2009 Quad Rear ', '50.3\\u2009 ',\n",
       "       '8\\u2009 Dual Rear ', '12.2\\u2009 ', '5\\u2009 Rear ',\n",
       "       '5\\u2009 Rear Camera', '50\\u2009 Dual Rear ', '8\\u2009 ',\n",
       "       '12\\u2009 Rear ', '200\\u2009 Penta Rear ', '2\\u2009 Rear Camera',\n",
       "       '54\\u2009 ', '16\\u2009 ', '0.3\\u2009 Rear Camera', '2\\u2009 Rear ',\n",
       "       '48\\u2009  ', '12\\u2009 Quad Rear ', '20\\u2009 ',\n",
       "       '12.2\\u2009 Rear ', '1.3\\u2009 Rear Camera', 'No Rear Camera',\n",
       "       '16\\u2009 Rear ', '13\\u2009 Quad Rear ', '5\\u2009 ',\n",
       "       '20\\u2009 Rear ', '47.2\\u2009 ', '40\\u2009 Quad Rear ',\n",
       "       '48\\u2009 Quad Rear Camera', '24\\u2009 '], dtype=object)"
      ]
     },
     "execution_count": 103,
     "metadata": {},
     "output_type": "execute_result"
    }
   ],
   "source": [
    "Rear_Camera['Primary Camera'].unique()\n"
   ]
  },
  {
   "cell_type": "code",
   "execution_count": 104,
   "id": "29f66a98",
   "metadata": {},
   "outputs": [],
   "source": [
    "Rear_Camera['Primary Camera'].replace({\"Quad Rear\":\"\",\"Rear\":\"\",\"Rear Camera\":\"\"},regex=True,inplace=True)\n",
    "Rear_Camera['Primary Camera'].replace({\"Dual\":\"\",\"Camera\":\"\",\"Penta\":\"\",\"No\":0},regex=True,inplace=True)\n",
    "Rear_Camera['Primary Camera']=Rear_Camera['Primary Camera'].str.strip()"
   ]
  },
  {
   "cell_type": "code",
   "execution_count": 105,
   "id": "d43f1a1c",
   "metadata": {},
   "outputs": [
    {
     "data": {
      "text/plain": [
       "array([' 48\\u2009 ', ' 2\\u2009 ', ' 8\\u2009 ', ' 12\\u2009 Dual Rear ',\n",
       "       ' 50\\u2009 Dual Rear ', ' 2\\u2009 Dual Rear ', None, ' 12\\u2009 ',\n",
       "       ' 13\\u2009 ', ' 0.3\\u2009 Dual Rear ', ' 8\\u2009 Dual Rear ',\n",
       "       ' 10\\u2009 ', ' 50\\u2009 ', ' 5\\u2009 ',\n",
       "       ' Depth Sensor Dual Rear ', ' 2\\u2009  ', ' 5\\u2009 Dual Rear ',\n",
       "       ' 16\\u2009 ', ' 12.2\\u2009 Dual Rear ', ' Depth Sensor ',\n",
       "       ' 20\\u2009 ', ' 50\\u2009  ', ' 16\\u2009 Dual Rear ', ' 64\\u2009 ',\n",
       "       ' 13\\u2009 Dual Rear ', ' 0.08\\u2009 Dual Rear ',\n",
       "       ' 1.9\\u2009 Dual Rear ', ' 3\\u2009 ', ' 12.2\\u2009 '], dtype=object)"
      ]
     },
     "execution_count": 105,
     "metadata": {},
     "output_type": "execute_result"
    }
   ],
   "source": [
    "Rear_Camera['Secondary Camera'].unique()"
   ]
  },
  {
   "cell_type": "code",
   "execution_count": 106,
   "id": "5e821a1f",
   "metadata": {},
   "outputs": [
    {
     "data": {
      "text/plain": [
       "array([' 48\\u2009 ', ' 2\\u2009 ', ' 8\\u2009 ', ' 12\\u2009  ',\n",
       "       ' 50\\u2009  ', ' 2\\u2009  ', None, ' 12\\u2009 ', ' 13\\u2009 ',\n",
       "       ' 0.3\\u2009  ', ' 8\\u2009  ', ' 10\\u2009 ', ' 50\\u2009 ',\n",
       "       ' 5\\u2009 ', '   ', ' 5\\u2009  ', ' 16\\u2009 ', ' 12.2\\u2009  ',\n",
       "       '  ', ' 20\\u2009 ', ' 16\\u2009  ', ' 64\\u2009 ', ' 13\\u2009  ',\n",
       "       ' 0.08\\u2009  ', ' 1.9\\u2009  ', ' 3\\u2009 ', ' 12.2\\u2009 '],\n",
       "      dtype=object)"
      ]
     },
     "execution_count": 106,
     "metadata": {},
     "output_type": "execute_result"
    }
   ],
   "source": [
    "Rear_Camera['Secondary Camera'].replace({\"Dual Rear\":\"\",\"Depth Sensor\":\"\",\"None\":\"0\",\"\":\"0\"},regex=True,inplace=True)\n",
    "Rear_Camera['Secondary Camera'].unique()"
   ]
  },
  {
   "cell_type": "code",
   "execution_count": 107,
   "id": "5e488516",
   "metadata": {},
   "outputs": [],
   "source": [
    "Rear_Camera['Secondary Camera']=Rear_Camera['Secondary Camera'].str.strip()"
   ]
  },
  {
   "cell_type": "code",
   "execution_count": 108,
   "id": "e0966f24",
   "metadata": {},
   "outputs": [
    {
     "data": {
      "text/plain": [
       "array([' 32\\u2009  ', ' 2\\u2009  ', None, ' 8\\u2009  ', ' 12\\u2009  ',\n",
       "       ' 10\\u2009  ', ' 50\\u2009  ', ' 5\\u2009  ', ' 0.3\\u2009  ',\n",
       "       ' 13\\u2009  ', ' Ultra Wide  ', ' 48\\u2009  ', ' 12\\u2009  Camera',\n",
       "       ' 64\\u2009  ', ' 16\\u2009  ', ' 12.2\\u2009  ', ' Depth Sensor  '],\n",
       "      dtype=object)"
      ]
     },
     "execution_count": 108,
     "metadata": {},
     "output_type": "execute_result"
    }
   ],
   "source": [
    "Rear_Camera['Additional Camera'].unique()"
   ]
  },
  {
   "cell_type": "code",
   "execution_count": 109,
   "id": "ae7d15d5",
   "metadata": {},
   "outputs": [
    {
     "data": {
      "text/plain": [
       "0     2   \n",
       "Name: Additional Camera, dtype: object"
      ]
     },
     "execution_count": 109,
     "metadata": {},
     "output_type": "execute_result"
    }
   ],
   "source": [
    "Rear_Camera['Additional Camera'].mode()\n"
   ]
  },
  {
   "cell_type": "code",
   "execution_count": 110,
   "id": "3860ae49",
   "metadata": {},
   "outputs": [],
   "source": [
    "Rear_Camera['Additional Camera'].replace({\"Ultra Wide\":2,\"Depth Sensor\":2,\"Camera\":\"\"},regex=True,inplace=True)\n",
    "Rear_Camera['Additional Camera']=Rear_Camera['Additional Camera'].str.strip()"
   ]
  },
  {
   "cell_type": "code",
   "execution_count": 111,
   "id": "bc5eac87",
   "metadata": {},
   "outputs": [],
   "source": [
    "storage=df['card'].str.split(\",\",expand=True).rename(columns={0:\"type\",1:\"upto\"})"
   ]
  },
  {
   "cell_type": "code",
   "execution_count": 112,
   "id": "a665f8a5",
   "metadata": {},
   "outputs": [
    {
     "data": {
      "text/plain": [
       "Memory Card Supported        716\n",
       "Memory Card (Hybrid)         157\n",
       "Memory Card Not Supported    129\n",
       "Name: type, dtype: int64"
      ]
     },
     "execution_count": 112,
     "metadata": {},
     "output_type": "execute_result"
    }
   ],
   "source": [
    "storage['type'].value_counts()"
   ]
  },
  {
   "cell_type": "code",
   "execution_count": 113,
   "id": "eac4d187",
   "metadata": {},
   "outputs": [
    {
     "data": {
      "text/plain": [
       "array([None, ' upto 1\\u2009TB', ' upto 512\\u2009GB', ' upto 256\\u2009GB',\n",
       "       ' upto 2\\u2009TB', ' upto 128\\u2009GB', ' upto 32\\u2009GB',\n",
       "       ' upto 64\\u2009GB', ' upto 1000\\u2009GB', ' upto 16\\u2009GB',\n",
       "       ' upto 48\\u2009GB'], dtype=object)"
      ]
     },
     "execution_count": 113,
     "metadata": {},
     "output_type": "execute_result"
    }
   ],
   "source": [
    "storage[\"upto\"].unique()"
   ]
  },
  {
   "cell_type": "code",
   "execution_count": 114,
   "id": "feb5e63e",
   "metadata": {},
   "outputs": [],
   "source": [
    "storage['upto']=np.where(storage['type'].str.contains(\"Memory Card Not Supported\"),\"1\",storage['upto'])\n",
    "storage['upto']=np.where((storage['type'].str.contains(\"Memory Card Supported\")&(storage['upto'].isnull())),'512',storage['upto'])\n",
    "storage[\"upto\"].fillna('512',inplace=True)\n",
    "storage[\"upto\"].replace({\"TB\":\"1000\",\"GB\":\"\",\"upto\":\"\"},regex=True,inplace=True)\n",
    "storage[\"upto\"]=storage[\"upto\"].str.strip()"
   ]
  },
  {
   "cell_type": "code",
   "execution_count": 115,
   "id": "77abdb04",
   "metadata": {},
   "outputs": [],
   "source": [
    "df[\"card\"]=storage['upto']"
   ]
  },
  {
   "cell_type": "code",
   "execution_count": 116,
   "id": "538d7ccf",
   "metadata": {},
   "outputs": [
    {
     "data": {
      "text/plain": [
       "array(['6.7 ', '6.59 ', '6.6 ', '6.55 ', '6.1 ', '6.67 ', '6.43 ',\n",
       "       '6.72 ', '6.56 ', '6.58 ', '6.8 ', '6.51 ', '6.5 ', '6.44 ',\n",
       "       '6.4 ', '6.78 ', 'Foldable Display', '6.26 ', '6.53 ', '6.73 ',\n",
       "       '6.52 ', '6.14 ', '6.47 ', '6.62 ', '5 ', '6.68 ', 'Dual Display',\n",
       "       '6.54 ', '4.7 ', '3.54 ', '6.9 ', '6.82 ', '6.95 ', '6.3 ',\n",
       "       '6.71 ', '5.4 ', '5.42 ', '6.36 ', '6 ', '6.81 ', '5.45 ', '6.2 ',\n",
       "       '6.83 ', '5.7 ', '2.4 ', '6.49 ', '5.9 ', '7.92 ', '6.18 ', '4.5 ',\n",
       "       '5.5 ', '6.74 ', '2.8 ', '6.35 ', '6.66 ', '6.64 ', '6.28 ',\n",
       "       '6.92 ', '1.8 ', '6.76 ', '6.57 ', '6.91 ', '6.38 ', '6.06 ', '7 ',\n",
       "       '6.39 ', '6.22 ', '5.3 ', '5.84 ', '6.34 ', '6.09 ', '5.2 ',\n",
       "       '6.75 ', '5.86 '], dtype=object)"
      ]
     },
     "execution_count": 116,
     "metadata": {},
     "output_type": "execute_result"
    }
   ],
   "source": [
    "display=df['display'].str.split(\",\",expand=True).rename(columns={0:\"inches\",1:\"pixel\",2:\"display Hz\"})\n",
    "display[\"inches\"].replace(\"inches\",\"\",inplace=True,regex=True)\n",
    "display[\"inches\"].unique()"
   ]
  },
  {
   "cell_type": "code",
   "execution_count": 118,
   "id": "b5ddb130",
   "metadata": {},
   "outputs": [],
   "source": [
    "display[\"inches\"]=np.where(display[\"inches\"].str.contains(\"Display\"),display[\"inches\"].mode(),display[\"inches\"])\n",
    "display[\"inches\"]=display[\"inches\"].str.strip()\n"
   ]
  },
  {
   "cell_type": "code",
   "execution_count": 119,
   "id": "fdd262a1",
   "metadata": {},
   "outputs": [
    {
     "data": {
      "text/plain": [
       "15"
      ]
     },
     "execution_count": 119,
     "metadata": {},
     "output_type": "execute_result"
    }
   ],
   "source": [
    "display['pixel'].isnull().sum()"
   ]
  },
  {
   "cell_type": "code",
   "execution_count": 120,
   "id": "db970aac",
   "metadata": {},
   "outputs": [
    {
     "data": {
      "text/plain": [
       "0     1080 x 2400 px\n",
       "Name: pixel, dtype: object"
      ]
     },
     "execution_count": 120,
     "metadata": {},
     "output_type": "execute_result"
    }
   ],
   "source": [
    "display['pixel'].mode()"
   ]
  },
  {
   "cell_type": "code",
   "execution_count": 121,
   "id": "effbc381",
   "metadata": {},
   "outputs": [],
   "source": [
    "display['pixel'].fillna(\"1080x2400px\",inplace=True)\n"
   ]
  },
  {
   "cell_type": "code",
   "execution_count": 122,
   "id": "902dc3e7",
   "metadata": {},
   "outputs": [
    {
     "data": {
      "text/plain": [
       " 720 x 1600 px Display with Water Drop Notch     108\n",
       " 1080 x 2400 px Display with Punch Hole           50\n",
       " 1080 x 2408 px Display with Water Drop Notch     20\n",
       " 1080 x 2340 px Display with Water Drop Notch     16\n",
       " Dual Display                                     15\n",
       "                                                ... \n",
       " 640 x 960 px Display                              1\n",
       " 720 x 1600 px Display with Small Notch            1\n",
       " 750 x 1334 px Display with Large Notch            1\n",
       " 720 x 1600 px Display with Large Notch            1\n",
       " 720 x 1520 px Display with Large Notch            1\n",
       "Name: pixel, Length: 72, dtype: int64"
      ]
     },
     "execution_count": 122,
     "metadata": {},
     "output_type": "execute_result"
    }
   ],
   "source": [
    "display['pixel'][display['pixel'].str.contains(\"Display\")].value_counts()\n"
   ]
  },
  {
   "cell_type": "code",
   "execution_count": 123,
   "id": "c4ae84de",
   "metadata": {},
   "outputs": [
    {
     "data": {
      "text/plain": [
       "396"
      ]
     },
     "execution_count": 123,
     "metadata": {},
     "output_type": "execute_result"
    }
   ],
   "source": [
    "display['pixel'].replace({\"Display with Water Drop Notch\":\"\",\"Display with Punch Hole\":\"\",\"Display with Small Notch\":\"\"},inplace=True,regex=True)\n",
    "display['pixel'].replace({\"Display with Large Notch\":\"\",\"Dual Display\":\"\",\"Display\":\"\"},inplace=True,regex=True)\n",
    "display['pixel'].replace({\"px\":\"\"},inplace=True,regex=True)\n",
    "display['pixel']=display['pixel'].str.strip()\n",
    "display['display Hz'].isnull().sum()"
   ]
  },
  {
   "cell_type": "code",
   "execution_count": 124,
   "id": "c4966f67",
   "metadata": {},
   "outputs": [
    {
     "data": {
      "text/plain": [
       " 120 Hz Display with Punch Hole          286\n",
       " 90 Hz Display with Punch Hole           129\n",
       " 90 Hz Display with Water Drop Notch      78\n",
       " 144 Hz Display with Punch Hole           33\n",
       " 120 Hz Display with Water Drop Notch     28\n",
       " 120 Hz Display                           19\n",
       " 165 Hz Display                            7\n",
       " 120 Hz Display with Small Notch           5\n",
       " 144 Hz Display                            5\n",
       " 90 Hz Display with Small Notch            4\n",
       " 90 Hz Display with Dual Punch Hole        4\n",
       " 120 Hz Display with Large Notch           3\n",
       " 90 Hz Display                             2\n",
       " 165 Hz Display with Punch Hole            1\n",
       " 144 Hz Display with Water Drop Notch      1\n",
       " 240 Hz Display with Punch Hole            1\n",
       "Name: display Hz, dtype: int64"
      ]
     },
     "execution_count": 124,
     "metadata": {},
     "output_type": "execute_result"
    }
   ],
   "source": [
    "display['display Hz'].value_counts()"
   ]
  },
  {
   "cell_type": "code",
   "execution_count": 125,
   "id": "af1c0b75",
   "metadata": {},
   "outputs": [],
   "source": [
    "display['display Hz'].replace({\"Display with Water Drop Notch\":\"\",\"Display with Punch Hole\":\"\",\"Display with Small Notch\":\"\"},inplace=True,regex=True)\n",
    "display['display Hz'].replace({\"Display with Large Notch\":\"\",\"Dual Display\":\"\",\"Display\":\"\"},inplace=True,regex=True)\n",
    "display['display Hz'].replace({\"Hz\":\"\",\"with Dual Punch Hole\":\"\"},inplace=True,regex=True)"
   ]
  },
  {
   "cell_type": "code",
   "execution_count": 126,
   "id": "41b7e45c",
   "metadata": {},
   "outputs": [
    {
     "data": {
      "text/plain": [
       "0     120  \n",
       "Name: display Hz, dtype: object"
      ]
     },
     "execution_count": 126,
     "metadata": {},
     "output_type": "execute_result"
    }
   ],
   "source": [
    "display['display Hz'].mode()"
   ]
  },
  {
   "cell_type": "code",
   "execution_count": 127,
   "id": "33c5fcaf",
   "metadata": {},
   "outputs": [],
   "source": [
    "display['display Hz'].fillna(\"120\",inplace=True)\n",
    "display['display Hz']=display['display Hz'].str.strip()"
   ]
  },
  {
   "cell_type": "code",
   "execution_count": 128,
   "id": "ffd803be",
   "metadata": {},
   "outputs": [
    {
     "data": {
      "text/plain": [
       "OnePlus 11 5G                1\n",
       "Motorola One Fusion Plus     1\n",
       "Xiaomi Redmi Note 11E 5G     1\n",
       "Honor Magic 4 Pro Plus 5G    1\n",
       "Tecno Spark 9T               1\n",
       "                            ..\n",
       "OnePlus 9 Pro                1\n",
       "Xiaomi Redmi Note 11S        1\n",
       "Xiaomi Redmi 9 Activ         1\n",
       "Tecno Camon 19 Pro 5G        1\n",
       "Samsung Galaxy M52s 5G       1\n",
       "Name: model, Length: 1002, dtype: int64"
      ]
     },
     "execution_count": 128,
     "metadata": {},
     "output_type": "execute_result"
    }
   ],
   "source": [
    "df['model'].value_counts()"
   ]
  },
  {
   "cell_type": "code",
   "execution_count": 129,
   "id": "c52630c1",
   "metadata": {},
   "outputs": [],
   "source": [
    "df['model']=np.where(df['model'].str.contains(\"OnePlus\"),'OnePlus',df['model'])\n",
    "df['model']=np.where(df['model'].str.contains(\"Honor\"),'Honor',df['model'])\n",
    "df['model']=np.where(df['model'].str.contains(\"Xiaomi\"),'Xiaomi',df['model'])\n",
    "df['model']=np.where(df['model'].str.contains(\"Oppo\"),'Oppo',df['model'])\n",
    "df['model']=np.where(df['model'].str.contains(\"LG\"),'LG',df['model'])\n",
    "df['model']=np.where(df['model'].str.contains(\"Motorola\"),'Motorola',df['model'])\n",
    "df['model']=np.where(df['model'].str.contains(\"Tecno\"),'Tecno',df['model'])\n",
    "df['model']=np.where(df['model'].str.contains(\"Samsung\"),'Samsung',df['model'])\n",
    "df['model']=np.where(df['model'].str.contains(\"POCO\"),'POCO',df['model'])\n",
    "df['model']=np.where(df['model'].str.contains(\"Vivo\"),'Vivo',df['model'])\n",
    "df['model']=np.where(df['model'].str.contains(\"Poco\"),'POCO',df['model'])\n",
    "df['model']=np.where(df['model'].str.contains(\"Apple\"),'Apple',df['model'])\n",
    "df['model']=np.where(df['model'].str.contains(\"Nothing\"),'Nothing',df['model'])\n",
    "df['model']=np.where(df['model'].str.contains(\"Realme\"),'Realme',df['model'])\n",
    "df['model']=np.where(df['model'].str.contains(\"OPPO\"),'Oppo',df['model'])\n",
    "df['model']=np.where(df['model'].str.contains(\"POCO\"),'POCO',df['model'])\n",
    "df['model']=np.where(df['model'].str.contains(\"iQOO\"),'iQOO',df['model'])\n",
    "df['model']=np.where(df['model'].str.contains(\"Gionee\"),'Gionee',df['model'])\n",
    "df['model']=np.where(df['model'].str.contains(\"Nokia\"),'Nokia',df['model'])\n",
    "df['model']=np.where(df['model'].str.contains(\"Google\"),'Google',df['model'])\n",
    "df['model']=np.where(df['model'].str.contains(\"Huawei\"),'Huawei',df['model'])\n",
    "df['model']=np.where(df['model'].str.contains(\"Lenovo\"),'Lenovo',df['model'])\n",
    "df['model']=np.where(df['model'].str.contains(\"Infinix\"),'Infinix',df['model'])\n",
    "df['model']=np.where(df['model'].str.contains(\"Sony\"),'Sony',df['model'])\n",
    "df['model']=np.where(df['model'].str.contains(\"Lava\"),'Lava',df['model'])\n",
    "df['model']=np.where(df['model'].str.contains(\"Micromax\"),'Micromax',df['model'])\n",
    "df['model']=np.where(df['model'].str.contains(\"Asus\"),'Asus',df['model'])\n",
    "df['model']=np.where(df['model'].str.contains(\"Doogee\"),'Doogee',df['model'])\n",
    "df['model']=np.where(df['model'].str.contains(\"Nubia\"),'Nubia',df['model'])\n",
    "df['model']=np.where(df['model'].str.contains(\"Redmi\"),'Redmi',df['model'])\n",
    "df['model']=np.where(df['model'].str.contains(\"Jio\"),'Jio',df['model'])\n",
    "df['model']=np.where(df['model'].str.contains(\"itel\"),'itel',df['model'])\n",
    "df['model']=np.where(df['model'].str.contains(\"iKall\"),'iKall',df['model'])\n",
    "df['model']=np.where(df['model'].str.contains(\"Lyf\"),'Lyf',df['model'])\n",
    "df['model']=np.where(df['model'].str.contains(\"Itel\"),'itel',df['model'])\n",
    "df['model']=np.where(df['model'].str.contains(\"ZTE\"),'ZTE',df['model'])\n",
    "df['model']=np.where(df['model'].str.contains(\"Letv\"),'Letv',df['model'])"
   ]
  },
  {
   "cell_type": "code",
   "execution_count": 130,
   "id": "b745806f",
   "metadata": {},
   "outputs": [
    {
     "data": {
      "text/plain": [
       "array(['OnePlus', 'Samsung', 'Motorola', 'Realme', 'Apple', 'Xiaomi',\n",
       "       'Nothing', 'Oppo', 'Vivo', 'POCO', 'iQOO', 'Jio', 'Gionee',\n",
       "       'Tecno', 'Tesla Pi Phone', 'Google', 'Infinix', 'Nokia',\n",
       "       'Cola Phone', 'Letv', 'iKall', 'LeEco S1 Pro', 'Duoqin F22 Pro',\n",
       "       'Lava', 'Honor', 'Nubia', 'Redmi', 'Asus', 'itel',\n",
       "       'Royole FlexPai 2', 'Sony', 'Vertu Signature Touch', 'BLU F91 5G',\n",
       "       'Lyf', 'Huawei', 'ZTE', 'Lenovo', 'LG', 'Eunity U1 5605N',\n",
       "       'Micromax', 'Leitz Phone 2', 'CAT S22 Flip', 'DIZO Star 500',\n",
       "       'BlackZone Ultra 4G', 'Doogee', 'Royole FlexPai 3 5G', 'TCL Ion X',\n",
       "       'Sharp Aquos R5G', 'Blackview BV5200 Pro', 'XTouch F40 Flip'],\n",
       "      dtype=object)"
      ]
     },
     "execution_count": 130,
     "metadata": {},
     "output_type": "execute_result"
    }
   ],
   "source": [
    "df[\"model\"].unique()"
   ]
  },
  {
   "cell_type": "code",
   "execution_count": 131,
   "id": "ea6aa90e",
   "metadata": {},
   "outputs": [
    {
     "data": {
      "text/plain": [
       "array(['Android v13', 'Android v12', 'iOS v16', 'iOS v15', 'Android v11',\n",
       "       'Android v10', 'iOS v13', 'HarmonyOS v2', 'iOS v15.0', 'iOS v14',\n",
       "       'Android v10.0', 'Android v8.1 (Oreo)', 'iOS v13.0',\n",
       "       'Android v11.0', 'Android v9.0 (Pie)', 'Android v12.1',\n",
       "       'iOS v12.3', 'Unisoc T107', 'KAI OS', 'iOS v17',\n",
       "       'Android v4.4.2 (KitKat)', 'Android v5.1 (Lollipop)',\n",
       "       'Android v5.1.1 (Lollipop)', 'Hongmeng OS v3.0', 'Bluetooth',\n",
       "       'Android v8.0 (Oreo)', 'T117', 'Android v6.0 (Marshmallow)',\n",
       "       'Pragati OS (Powered by Android)', 'iOS v10', 'RTOS (Series 30+)',\n",
       "       'iOS v14.0', 'Harmony v2.0', 'Nucleus', 'Hongmeng OS v4.0',\n",
       "       'HarmonyOS v2.0', 'EMUI v12', 'HarmonyOS', 'Android v7.1 (Nougat)',\n",
       "       'Android', 'Android v9 (Pie)'], dtype=object)"
      ]
     },
     "execution_count": 131,
     "metadata": {},
     "output_type": "execute_result"
    }
   ],
   "source": [
    "df['os'].unique()"
   ]
  },
  {
   "cell_type": "code",
   "execution_count": 132,
   "id": "ad9c9622",
   "metadata": {},
   "outputs": [],
   "source": [
    "df['os']=np.where(df['os'].str.contains(\"Android\"),'Android',df['os'])\n",
    "df['os']=np.where(df['os'].str.contains(\"iOS\"),'iOS',df['os'])\n",
    "df['os']=np.where(df['os'].str.contains(\"HarmonyOS\"),'Harmony',df['os'])\n",
    "df['os']=np.where(df['os'].str.contains(\"Hongmeng\"),'Hongmeng',df['os'])\n",
    "df['os']=np.where(df['os'].str.contains(\"Harmony\"),'Harmony',df['os'])"
   ]
  },
  {
   "cell_type": "code",
   "execution_count": 133,
   "id": "e8743c6c",
   "metadata": {},
   "outputs": [],
   "source": [
    "df['price'].replace(\",\",\"\",regex=True,inplace=True)"
   ]
  },
  {
   "cell_type": "code",
   "execution_count": 134,
   "id": "2743fc2f",
   "metadata": {},
   "outputs": [
    {
     "data": {
      "text/plain": [
       "array(['12\\u2009GB RAM', '6\\u2009GB RAM', '4\\u2009GB RAM',\n",
       "       '8\\u2009GB RAM', '3\\u2009GB RAM', '16\\u2009GB RAM',\n",
       "       '2\\u2009GB RAM', '512\\u2009MB RAM', '18\\u2009GB RAM',\n",
       "       '48\\u2009MB RAM', '1\\u2009GB RAM', '64\\u2009GB inbuilt',\n",
       "       '512\\u2009GB inbuilt', '64\\u2009MB RAM', '32\\u2009MB RAM',\n",
       "       '8\\u2009MB RAM', '4\\u2009MB inbuilt'], dtype=object)"
      ]
     },
     "execution_count": 134,
     "metadata": {},
     "output_type": "execute_result"
    }
   ],
   "source": [
    "ram=df[\"ram\"].str.split(\",\",expand=True).rename(columns={0:\"RAM\",1:\"inbuilt\"})\n",
    "ram['RAM'].unique()"
   ]
  },
  {
   "cell_type": "code",
   "execution_count": 135,
   "id": "c13f6093",
   "metadata": {},
   "outputs": [
    {
     "data": {
      "text/plain": [
       "4"
      ]
     },
     "execution_count": 135,
     "metadata": {},
     "output_type": "execute_result"
    }
   ],
   "source": [
    "ram['inbuilt'].isnull().sum()"
   ]
  },
  {
   "cell_type": "code",
   "execution_count": 136,
   "id": "b44aa423",
   "metadata": {},
   "outputs": [],
   "source": [
    "ram['inbuilt']=np.where(ram['RAM'].str.contains(\"inbuilt\"),ram['RAM'],ram['inbuilt'])"
   ]
  },
  {
   "cell_type": "code",
   "execution_count": 137,
   "id": "09acbcf4",
   "metadata": {},
   "outputs": [
    {
     "data": {
      "text/plain": [
       "0    8 GB RAM\n",
       "Name: RAM, dtype: object"
      ]
     },
     "execution_count": 137,
     "metadata": {},
     "output_type": "execute_result"
    }
   ],
   "source": [
    "ram['RAM'].mode()"
   ]
  },
  {
   "cell_type": "code",
   "execution_count": 140,
   "id": "5c1d8895",
   "metadata": {},
   "outputs": [],
   "source": [
    "ram['RAM']=np.where(ram['RAM'].str.contains(\"inbuilt\"),\"8GB RAM\",ram['RAM'])\n",
    "ram['RAM']=np.where(ram['RAM'].str.contains(\"MB\"),\"1GB\",ram['RAM'])\n",
    "ram['RAM'].replace({\"RAM\":\"\",\"MB\":\"\",\"GB\":\"\"},regex=True,inplace=True)\n",
    "ram['inbuilt']=np.where(ram['inbuilt'].str.contains(\"MB\"),\"1GB\",ram['inbuilt'])\n",
    "ram['inbuilt'].replace({\"inbuilt\":\"\",\"TB\":\"1000\",\"GB\":\"\"},regex=True,inplace=True)\n"
   ]
  },
  {
   "cell_type": "code",
   "execution_count": 141,
   "id": "401ac318",
   "metadata": {},
   "outputs": [],
   "source": [
    "ram['inbuilt']=ram['inbuilt'].str.strip()\n",
    "ram['RAM']=ram['RAM'].str.strip()"
   ]
  },
  {
   "cell_type": "code",
   "execution_count": 142,
   "id": "4d790b16",
   "metadata": {},
   "outputs": [],
   "source": [
    "df.drop(columns=\"sim\",inplace=True)"
   ]
  },
  {
   "cell_type": "code",
   "execution_count": 143,
   "id": "3c20efb0",
   "metadata": {},
   "outputs": [
    {
     "data": {
      "text/plain": [
       "Dimensity 700 5G      39\n",
       "Helio P35             28\n",
       "Snapdragon 8+ Gen1    26\n",
       "Snapdragon 8 Gen2     23\n",
       "Snapdragon 695        23\n",
       "                      ..\n",
       "Tiger T606             1\n",
       "Snapdragon 615         1\n",
       "Helio MT6580           1\n",
       "Helio  G95             1\n",
       "Google  Tensor 3       1\n",
       "Name: type, Length: 255, dtype: int64"
      ]
     },
     "execution_count": 143,
     "metadata": {},
     "output_type": "execute_result"
    }
   ],
   "source": [
    "processor=df[\"processor\"].str.split(\",\",expand=True).rename(columns={0:\"type\",1:\"core\",2:\"processor Hz\"})\n",
    "processor['type'].value_counts()\n"
   ]
  },
  {
   "cell_type": "code",
   "execution_count": 144,
   "id": "2fecd732",
   "metadata": {},
   "outputs": [],
   "source": [
    "processor['type']=np.where(processor['type'].str.contains(\"Dimensity\"),\"Dimensity\",processor['type'])\n",
    "processor['type']=np.where(processor['type'].str.contains(\"Snapdragon\"),\"Snapdragon\",processor['type'])\n",
    "processor['type']=np.where(processor['type'].str.contains(\"Helio\"),\"Helio\",processor['type'])\n",
    "processor['type']=np.where(processor['type'].str.contains(\"Tiger\"),\"Tiger\",processor['type'])\n",
    "processor['type']=np.where(processor['type'].str.contains(\"Unisoc\"),\"Unisoc\",processor['type'])\n",
    "processor['type']=np.where(processor['type'].str.contains(\"Sanpdragon\"),\"Snapdragon\",processor['type'])\n",
    "processor['type']=np.where(processor['type'].str.contains(\"Bionic\"),\"Bionic\",processor['type'])\n",
    "processor['type']=np.where(processor['type'].str.contains(\"Google\"),\"Google\",processor['type'])\n",
    "processor['type']=np.where(processor['type'].str.contains(\"Apple\"),\"Apple\",processor['type'])\n",
    "processor['type']=np.where(processor['type'].str.contains(\"Exynos\"),\"Exynos\",processor['type'])\n",
    "processor['type']=np.where(processor['type'].str.contains(\"Fusion\"),\"Fusion\",processor['type'])\n",
    "processor['type']=np.where(processor['type'].str.contains(\"Spreadtrum\"),\"Spreadtrum\",processor['type'])\n",
    "processor['type']=np.where(processor['type'].str.contains(\"Kirin\"),\"Kirin\",processor['type'])"
   ]
  },
  {
   "cell_type": "code",
   "execution_count": 145,
   "id": "20789808",
   "metadata": {},
   "outputs": [
    {
     "data": {
      "text/plain": [
       "20"
      ]
     },
     "execution_count": 145,
     "metadata": {},
     "output_type": "execute_result"
    }
   ],
   "source": [
    "processor['core'].isnull().sum()\n"
   ]
  },
  {
   "cell_type": "code",
   "execution_count": 146,
   "id": "75c7495f",
   "metadata": {},
   "outputs": [
    {
     "data": {
      "text/plain": [
       "(22,)"
      ]
     },
     "execution_count": 146,
     "metadata": {},
     "output_type": "execute_result"
    }
   ],
   "source": [
    "processor['type'][processor['type'].str.contains(\"Core\")].shape\n"
   ]
  },
  {
   "cell_type": "code",
   "execution_count": 147,
   "id": "4d506bc7",
   "metadata": {},
   "outputs": [
    {
     "data": {
      "text/plain": [
       "0     Octa Core\n",
       "Name: core, dtype: object"
      ]
     },
     "execution_count": 147,
     "metadata": {},
     "output_type": "execute_result"
    }
   ],
   "source": [
    "processor['core']=np.where(processor['type'].str.contains(\"Core\"),processor['type'],processor['core'])\n",
    "processor['core'].mode()"
   ]
  },
  {
   "cell_type": "code",
   "execution_count": 148,
   "id": "11fd7d8d",
   "metadata": {},
   "outputs": [],
   "source": [
    "processor['core'].fillna(\"Octa Core\",inplace=True)"
   ]
  },
  {
   "cell_type": "code",
   "execution_count": 149,
   "id": "65f49feb",
   "metadata": {},
   "outputs": [],
   "source": [
    "processor['type']=np.where(processor['type'].str.contains(\"Core\"),\"Snapdragon\",processor['type'])\n",
    "processor['core'].replace({\"Core\":\"\",\"Processor\":\"\"},inplace=True,regex=True)\n",
    "processor['core']=processor['core'].str.strip()"
   ]
  },
  {
   "cell_type": "code",
   "execution_count": 150,
   "id": "5ca2a1fe",
   "metadata": {},
   "outputs": [
    {
     "data": {
      "text/plain": [
       "61"
      ]
     },
     "execution_count": 150,
     "metadata": {},
     "output_type": "execute_result"
    }
   ],
   "source": [
    "processor['processor Hz'].isnull().sum()\n"
   ]
  },
  {
   "cell_type": "code",
   "execution_count": 151,
   "id": "07f7f564",
   "metadata": {},
   "outputs": [
    {
     "data": {
      "text/plain": [
       "0     2.2 GHz Processor\n",
       "Name: processor Hz, dtype: object"
      ]
     },
     "execution_count": 151,
     "metadata": {},
     "output_type": "execute_result"
    }
   ],
   "source": [
    "processor['processor Hz'].mode()"
   ]
  },
  {
   "cell_type": "code",
   "execution_count": 152,
   "id": "acbabeca",
   "metadata": {},
   "outputs": [
    {
     "data": {
      "text/plain": [
       " 2.2 GHz Processor     144\n",
       " 2 GHz Processor       143\n",
       " 2.4 GHz Processor     128\n",
       " 3.2 GHz Processor      94\n",
       " 2.3 GHz Processor      86\n",
       "2.2GHz Processor        61\n",
       " 3 GHz Processor        53\n",
       " 2.84 GHz Processor     36\n",
       " 2.05 GHz Processor     28\n",
       " 2.5 GHz Processor      23\n",
       " 1.8 GHz Processor      22\n",
       " 2.85 GHz Processor     19\n",
       " 3.22 GHz Processor     18\n",
       " 1.6 GHz Processor      18\n",
       " 3.1 GHz Processor      15\n",
       " 2.6 GHz Processor      14\n",
       " 2.9 GHz Processor      13\n",
       " 1.82 GHz Processor     10\n",
       " 2.73 GHz Processor      9\n",
       " 2.8 GHz Processor       9\n",
       " 3.05 GHz Processor      8\n",
       " 1.3 GHz Processor       8\n",
       " 2.36 GHz Processor      8\n",
       " 2.65 GHz Processor      5\n",
       " 2.7 GHz Processor       5\n",
       " 1.5 GHz Processor       4\n",
       " 1.4 GHz Processor       4\n",
       " 1.1 GHz Processor       3\n",
       " 2.96 GHz Processor      3\n",
       " 2.86 GHz Processor      3\n",
       " 3.13 GHz Processor      2\n",
       " 2.35 GHz Processor      1\n",
       " 2.37 GHz Processor      1\n",
       " 1.99 GHz Processor      1\n",
       " 1.95 GHz Processor      1\n",
       " 2.1 GHz Processor       1\n",
       " 1.2 GHz Processor       1\n",
       "Name: processor Hz, dtype: int64"
      ]
     },
     "execution_count": 152,
     "metadata": {},
     "output_type": "execute_result"
    }
   ],
   "source": [
    "processor['processor Hz'].fillna(\"2.2GHz Processor\",inplace=True)\n",
    "processor['processor Hz'].value_counts()"
   ]
  },
  {
   "cell_type": "code",
   "execution_count": 153,
   "id": "21fcf421",
   "metadata": {},
   "outputs": [],
   "source": [
    "processor['processor Hz'].replace({\"GHz Processor\":\"\"},regex=True,inplace=True)\n",
    "processor['processor Hz']=processor['processor Hz'].str.strip()"
   ]
  },
  {
   "cell_type": "code",
   "execution_count": 154,
   "id": "f4e168b8",
   "metadata": {},
   "outputs": [
    {
     "data": {
      "text/plain": [
       "0    2\n",
       "Name: Additional Camera, dtype: object"
      ]
     },
     "execution_count": 154,
     "metadata": {},
     "output_type": "execute_result"
    }
   ],
   "source": [
    "Rear_Camera['Additional Camera'].mode()"
   ]
  },
  {
   "cell_type": "code",
   "execution_count": 155,
   "id": "7c428249",
   "metadata": {},
   "outputs": [
    {
     "data": {
      "text/plain": [
       "0    50\n",
       "Name: Primary Camera, dtype: object"
      ]
     },
     "execution_count": 155,
     "metadata": {},
     "output_type": "execute_result"
    }
   ],
   "source": [
    "Rear_Camera['Primary Camera'].mode()\n"
   ]
  },
  {
   "cell_type": "code",
   "execution_count": 156,
   "id": "f05aeed7",
   "metadata": {},
   "outputs": [
    {
     "data": {
      "text/plain": [
       "0    2\n",
       "Name: Secondary Camera, dtype: object"
      ]
     },
     "execution_count": 156,
     "metadata": {},
     "output_type": "execute_result"
    }
   ],
   "source": [
    "Rear_Camera['Secondary Camera'].mode()\n"
   ]
  },
  {
   "cell_type": "code",
   "execution_count": 157,
   "id": "31462746",
   "metadata": {},
   "outputs": [],
   "source": [
    "Rear_Camera['Additional Camera'].fillna(2,inplace=True)\n",
    "Rear_Camera['Primary Camera'].fillna(50,inplace=True)\n",
    "Rear_Camera['Secondary Camera'].fillna(2,inplace=True)"
   ]
  },
  {
   "cell_type": "code",
   "execution_count": 158,
   "id": "7414d1e0",
   "metadata": {},
   "outputs": [
    {
     "data": {
      "text/plain": [
       "24"
      ]
     },
     "execution_count": 158,
     "metadata": {},
     "output_type": "execute_result"
    }
   ],
   "source": [
    "frontCam[\"Main Camera\"].isnull().sum()"
   ]
  },
  {
   "cell_type": "code",
   "execution_count": 159,
   "id": "49afd1ed",
   "metadata": {},
   "outputs": [
    {
     "data": {
      "text/plain": [
       "0    16\n",
       "Name: Main Camera, dtype: object"
      ]
     },
     "execution_count": 159,
     "metadata": {},
     "output_type": "execute_result"
    }
   ],
   "source": [
    "frontCam[\"Main Camera\"].mode()"
   ]
  },
  {
   "cell_type": "code",
   "execution_count": 160,
   "id": "ad507db1",
   "metadata": {},
   "outputs": [],
   "source": [
    "frontCam.drop(columns=\"Additional Camera\",inplace=True)\n",
    "frontCam['Main Camera'].fillna(16,inplace=True)"
   ]
  },
  {
   "cell_type": "code",
   "execution_count": 161,
   "id": "ac4fc666",
   "metadata": {},
   "outputs": [],
   "source": [
    "df=pd.concat([df,battery],axis=1)\n",
    "df=pd.concat([df,Rear_Camera],axis=1)\n",
    "df=pd.concat([df,frontCam],axis=1)\n",
    "df=pd.concat([df,display],axis=1)\n",
    "df=pd.concat([df,processor],axis=1)\n",
    "df=pd.concat([df,ram],axis=1)"
   ]
  },
  {
   "cell_type": "code",
   "execution_count": 162,
   "id": "5c871337",
   "metadata": {},
   "outputs": [],
   "source": [
    "df.drop(columns=[\"processor\",\"ram\",\"battery\",\"display\",\"camera\"],inplace=True)"
   ]
  },
  {
   "cell_type": "code",
   "execution_count": 163,
   "id": "318d3f0e",
   "metadata": {},
   "outputs": [
    {
     "data": {
      "text/plain": [
       "Index(['model', 'price', 'rating', 'card', 'os', 'battery_capacity',\n",
       "       'charging_capacity', 'Primary Camera', 'Secondary Camera',\n",
       "       'Additional Camera', 'Main Camera', 'inches', 'pixel', 'display Hz',\n",
       "       'type', 'core', 'processor Hz', 'RAM', 'inbuilt'],\n",
       "      dtype='object')"
      ]
     },
     "execution_count": 163,
     "metadata": {},
     "output_type": "execute_result"
    }
   ],
   "source": [
    "df.columns"
   ]
  },
  {
   "cell_type": "code",
   "execution_count": 164,
   "id": "cf2d095f",
   "metadata": {},
   "outputs": [
    {
     "name": "stdout",
     "output_type": "stream",
     "text": [
      "<class 'pandas.core.frame.DataFrame'>\n",
      "Int64Index: 1002 entries, 0 to 1019\n",
      "Data columns (total 19 columns):\n",
      " #   Column             Non-Null Count  Dtype  \n",
      "---  ------             --------------  -----  \n",
      " 0   model              1002 non-null   object \n",
      " 1   price              1002 non-null   object \n",
      " 2   rating             1002 non-null   float64\n",
      " 3   card               1002 non-null   object \n",
      " 4   os                 1002 non-null   object \n",
      " 5   battery_capacity   1002 non-null   object \n",
      " 6   charging_capacity  1002 non-null   object \n",
      " 7   Primary Camera     1002 non-null   object \n",
      " 8   Secondary Camera   1002 non-null   object \n",
      " 9   Additional Camera  1002 non-null   object \n",
      " 10  Main Camera        1002 non-null   object \n",
      " 11  inches             1002 non-null   object \n",
      " 12  pixel              1002 non-null   object \n",
      " 13  display Hz         1002 non-null   object \n",
      " 14  type               1002 non-null   object \n",
      " 15  core               1002 non-null   object \n",
      " 16  processor Hz       1002 non-null   object \n",
      " 17  RAM                1002 non-null   object \n",
      " 18  inbuilt            1002 non-null   object \n",
      "dtypes: float64(1), object(18)\n",
      "memory usage: 156.6+ KB\n"
     ]
    }
   ],
   "source": [
    "df.info()"
   ]
  },
  {
   "cell_type": "code",
   "execution_count": 172,
   "id": "234df8e6",
   "metadata": {},
   "outputs": [],
   "source": [
    "df[\"Additional Camera\"]=df[\"Additional Camera\"].astype(float)\n",
    "df[\"Main Camera\"]=df[\"Main Camera\"].astype(float)\n",
    "df['Primary Camera']=df['Primary Camera'].astype(float)\n",
    "df['RAM']=df['RAM'].astype(int)\n",
    "df['Secondary Camera'].replace(\"\",\"1\",inplace=True)\n",
    "df['Secondary Camera']=df['Secondary Camera'].astype(float)\n",
    "df['battery_capacity']=df['battery_capacity'].astype(int)\n",
    "# df['card']=df['card'].astype(int)\n",
    "df['charging_capacity']=df['charging_capacity'].astype(float)\n",
    "df['display Hz']=df['display Hz'].astype(int)\n",
    "# df['inbuilt']=df['inbuilt'].astype(int)\n",
    "df['inches']=df['inches'].astype(float)\n",
    "# df['price']=df['price'].astype(int)\n",
    "df['processor Hz']=df['processor Hz'].astype(float)"
   ]
  },
  {
   "cell_type": "code",
   "execution_count": 173,
   "id": "e6e2d64c",
   "metadata": {},
   "outputs": [
    {
     "name": "stdout",
     "output_type": "stream",
     "text": [
      "<class 'pandas.core.frame.DataFrame'>\n",
      "Int64Index: 1002 entries, 0 to 1019\n",
      "Data columns (total 19 columns):\n",
      " #   Column             Non-Null Count  Dtype  \n",
      "---  ------             --------------  -----  \n",
      " 0   model              1002 non-null   object \n",
      " 1   price              1002 non-null   object \n",
      " 2   rating             1002 non-null   float64\n",
      " 3   card               1002 non-null   object \n",
      " 4   os                 1002 non-null   object \n",
      " 5   battery_capacity   1002 non-null   int32  \n",
      " 6   charging_capacity  1002 non-null   float64\n",
      " 7   Primary Camera     1002 non-null   float64\n",
      " 8   Secondary Camera   1002 non-null   float64\n",
      " 9   Additional Camera  1002 non-null   float64\n",
      " 10  Main Camera        1002 non-null   float64\n",
      " 11  inches             1002 non-null   float64\n",
      " 12  pixel              1002 non-null   object \n",
      " 13  display Hz         1002 non-null   int32  \n",
      " 14  type               1002 non-null   object \n",
      " 15  core               1002 non-null   object \n",
      " 16  processor Hz       1002 non-null   float64\n",
      " 17  RAM                1002 non-null   int32  \n",
      " 18  inbuilt            1002 non-null   object \n",
      "dtypes: float64(8), int32(3), object(8)\n",
      "memory usage: 144.8+ KB\n"
     ]
    }
   ],
   "source": [
    "df.info()"
   ]
  },
  {
   "cell_type": "code",
   "execution_count": 175,
   "id": "b57cc6b2",
   "metadata": {},
   "outputs": [
    {
     "name": "stderr",
     "output_type": "stream",
     "text": [
      "C:\\Users\\jugraj\\AppData\\Local\\Temp\\ipykernel_23916\\2312581054.py:1: FutureWarning: The default value of numeric_only in DataFrame.corr is deprecated. In a future version, it will default to False. Select only valid columns or specify the value of numeric_only to silence this warning.\n",
      "  correlation_matrix=df.corr()\n"
     ]
    }
   ],
   "source": [
    "correlation_matrix=df.corr()"
   ]
  },
  {
   "cell_type": "code",
   "execution_count": 176,
   "id": "e4222ae4",
   "metadata": {},
   "outputs": [
    {
     "data": {
      "image/png": "[encoded data removed]",
      "text/plain": [
       "<Figure size 1000x800 with 2 Axes>"
      ]
     },
     "metadata": {},
     "output_type": "display_data"
    }
   ],
   "source": [
    "plt.figure(figsize=(10, 8))\n",
    "sns.heatmap(correlation_matrix, annot=True, cmap='coolwarm', fmt=\".2f\", linewidths=.5)\n",
    "plt.title('Correlation Heatmap')\n",
    "plt.show()"
   ]
  },
  {
   "cell_type": "code",
   "execution_count": null,
   "id": "775fd260",
   "metadata": {},
   "outputs": [],
   "source": []
  }
 ],
 "metadata": {
  "kernelspec": {
   "display_name": "Python 3 (ipykernel)",
   "language": "python",
   "name": "python3"
  },
  "language_info": {
   "codemirror_mode": {
    "name": "ipython",
    "version": 3
   },
   "file_extension": ".py",
   "mimetype": "text/x-python",
   "name": "python",
   "nbconvert_exporter": "python",
   "pygments_lexer": "ipython3",
   "version": "3.11.3"
  }
 },
 "nbformat": 4,
 "nbformat_minor": 5
}
